{
 "cells": [
  {
   "cell_type": "markdown",
   "metadata": {},
   "source": [
    "## Container setup"
   ]
  },
  {
   "cell_type": "code",
   "execution_count": 40,
   "metadata": {
    "collapsed": false
   },
   "outputs": [],
   "source": [
    "url = \"http://192.168.99.100\"\n",
    "data_port = \"5010\"\n",
    "snap_port = \"5020\"\n",
    "shiny_data = \"5030\"\n",
    "shiny_server = \"32769\""
   ]
  },
  {
   "cell_type": "markdown",
   "metadata": {},
   "source": [
    "## Get the Baylor network"
   ]
  },
  {
   "cell_type": "code",
   "execution_count": 41,
   "metadata": {
    "collapsed": false
   },
   "outputs": [],
   "source": [
    "import json\n",
    "import requests\n",
    "r1 = requests.get(\"{}:{}/\".format(url, data_port))"
   ]
  },
  {
   "cell_type": "code",
   "execution_count": 42,
   "metadata": {
    "collapsed": false
   },
   "outputs": [
    {
     "name": "stdout",
     "output_type": "stream",
     "text": [
      "Total Number of edges =  11628901\n",
      "Example edge:\n"
     ]
    },
    {
     "data": {
      "text/html": [
       "<div>\n",
       "<table border=\"1\" class=\"dataframe\">\n",
       "  <thead>\n",
       "    <tr style=\"text-align: right;\">\n",
       "      <th></th>\n",
       "      <th>entity1</th>\n",
       "      <th>entity2</th>\n",
       "      <th>type1</th>\n",
       "      <th>type2</th>\n",
       "    </tr>\n",
       "  </thead>\n",
       "  <tbody>\n",
       "    <tr>\n",
       "      <th>0</th>\n",
       "      <td>D016651</td>\n",
       "      <td>MESH:C531609</td>\n",
       "      <td>Chemical</td>\n",
       "      <td>Disease</td>\n",
       "    </tr>\n",
       "  </tbody>\n",
       "</table>\n",
       "</div>"
      ],
      "text/plain": [
       "   entity1       entity2     type1    type2\n",
       "0  D016651  MESH:C531609  Chemical  Disease"
      ]
     },
     "execution_count": 42,
     "metadata": {},
     "output_type": "execute_result"
    }
   ],
   "source": [
    "data = json.loads(r1.text)\n",
    "ctd = data[\"ctd\"]\n",
    "labels = data[\"labels\"]\n",
    "print \"Total Number of edges = \", len(ctd)\n",
    "print \"Example edge:\"\n",
    "import pandas\n",
    "import csv\n",
    "lines = ctd[0:150].split(\"\\n\")\n",
    "lines = [x.replace('\"','').split(\" \") for x in lines]\n",
    "df = pandas.DataFrame({lines[0][0]:[lines[1][0]], \n",
    "                       lines[0][1]:[lines[1][1]],\n",
    "                      lines[0][2]:[lines[1][2]],\n",
    "                      lines[0][3]:[lines[1][3]],})\n",
    "df"
   ]
  },
  {
   "cell_type": "markdown",
   "metadata": {
    "collapsed": true
   },
   "source": [
    "## Run community detection with SNAP"
   ]
  },
  {
   "cell_type": "code",
   "execution_count": 43,
   "metadata": {
    "collapsed": false
   },
   "outputs": [],
   "source": [
    "r2 = requests.post('{}:{}/'.format(url, snap_port), data = {'ctd':ctd})"
   ]
  },
  {
   "cell_type": "code",
   "execution_count": 44,
   "metadata": {
    "collapsed": false
   },
   "outputs": [
    {
     "name": "stdout",
     "output_type": "stream",
     "text": [
      "{\"4\": {\"nodes\": [{\"_rowee\": \"D016651\", \"name\": \"D016651\", \"color\": \"#FF8800\", \"label\": \"D016651\", \"y\": 2.8615451369048768, \"x\": 0.7691827769510386, \"type\": \"Chemical\", \"id\": \"0\", \"size\": 1}, {\"_rowee\": \"MESH:C531609\", \"name\": \"MESH:C531609\", \"color\": \"#CC0000\", \"label\": \"MESH:C531609\", \"y\": 3.4312115007083346, \"x\": 1.9481316441056635, \"type\": \"Disease\", \"id\": \"1\", \"size\": 1}, {\"_rowee\": \"MESH:D000849\", \"name\": \"MESH:D000849\", \"color\": \"#CC0000\", \"label\": \"MESH:D000849\", \"y\": 4.04881732759765, \"x\n"
     ]
    }
   ],
   "source": [
    "data = json.loads(r2.text)\n",
    "graph = data[\"graph\"]\n",
    "print graph[:500]\n",
    "with open(\"current_graph.json\" ,\"w\") as f:\n",
    "    f.write(data[\"graph\"])"
   ]
  },
  {
   "cell_type": "code",
   "execution_count": 46,
   "metadata": {
    "collapsed": false
   },
   "outputs": [],
   "source": [
    "# for a faster demo skip the above cells and run:\n",
    "with open(\"current_graph.json\" ,\"r\") as f:\n",
    "    graph = f.read()"
   ]
  },
  {
   "cell_type": "markdown",
   "metadata": {},
   "source": [
    "## Load data into visualization tool"
   ]
  },
  {
   "cell_type": "code",
   "execution_count": 50,
   "metadata": {
    "collapsed": false
   },
   "outputs": [
    {
     "name": "stdout",
     "output_type": "stream",
     "text": [
      "Data loaded\n"
     ]
    }
   ],
   "source": [
    "r = requests.post('{}:{}/'.format(url, shiny_data), data = {'graph':graph})\n",
    "print r.text"
   ]
  },
  {
   "cell_type": "markdown",
   "metadata": {},
   "source": [
    "## Open the visualization\n",
    "\n",
    "http://192.168.99.100:32769/sample-apps/BaylorInteractiveViewer/"
   ]
  }
 ],
 "metadata": {
  "kernelspec": {
   "display_name": "Python 2",
   "language": "python",
   "name": "python2"
  },
  "language_info": {
   "codemirror_mode": {
    "name": "ipython",
    "version": 2
   },
   "file_extension": ".py",
   "mimetype": "text/x-python",
   "name": "python",
   "nbconvert_exporter": "python",
   "pygments_lexer": "ipython2",
   "version": "2.7.10"
  }
 },
 "nbformat": 4,
 "nbformat_minor": 0
}
